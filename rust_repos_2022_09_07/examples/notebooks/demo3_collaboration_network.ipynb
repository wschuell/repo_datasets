{
 "cells": [
  {
   "cell_type": "markdown",
   "metadata": {},
   "source": [
    "## In this notebook we demonstrate how to read in data on developer contributions to specific repos as a bipartite matrix, and how to project this matrix onto a network of collaboration ties between developers. We focus on contributions made in 2021."
   ]
  },
  {
   "cell_type": "code",
   "execution_count": null,
   "metadata": {},
   "outputs": [],
   "source": [
    "import pandas as pd\n",
    "import networkx as nx\n",
    "import matplotlib.pyplot as plt"
   ]
  },
  {
   "cell_type": "code",
   "execution_count": null,
   "metadata": {},
   "outputs": [],
   "source": [
    "df=pd.read_csv('data/contributions.csv')"
   ]
  },
  {
   "cell_type": "code",
   "execution_count": null,
   "metadata": {},
   "outputs": [],
   "source": [
    "df.tail()"
   ]
  },
  {
   "cell_type": "code",
   "execution_count": null,
   "metadata": {},
   "outputs": [],
   "source": [
    "df_2021=df[df['timestamp'].str.contains('2021-')]"
   ]
  },
  {
   "cell_type": "code",
   "execution_count": null,
   "metadata": {},
   "outputs": [],
   "source": [
    "repo_user_n_commits_2021=df_2021.groupby(['repo_id','user_id']).nb_commits.sum().reset_index()\n",
    "repo_user_n_commits_2021['repo_id']=repo_user_n_commits_2021['repo_id'].map(lambda x: str(x)+'_repo')\n",
    "repo_user_n_commits_2021['user_id']=repo_user_n_commits_2021['user_id'].map(lambda x: str(x)+'_user')"
   ]
  },
  {
   "cell_type": "code",
   "execution_count": null,
   "metadata": {},
   "outputs": [],
   "source": [
    "repo_user_n_commits_2021.head()"
   ]
  },
  {
   "cell_type": "code",
   "execution_count": null,
   "metadata": {},
   "outputs": [],
   "source": [
    "#for convenience, let us filter repo-user pairs with at least 10 commits.\n",
    "repo_user_n_commits_2021=repo_user_n_commits_2021[repo_user_n_commits_2021['nb_commits']>=10]"
   ]
  },
  {
   "cell_type": "markdown",
   "metadata": {},
   "source": [
    "### Now we create a NetworkX graph from the data. The network will be bipartite with weighted edges connected users and repos. Weights indicate a count of commits."
   ]
  },
  {
   "cell_type": "code",
   "execution_count": null,
   "metadata": {},
   "outputs": [],
   "source": [
    "B = nx.Graph()\n",
    "B.add_weighted_edges_from(repo_user_n_commits_2021.values)"
   ]
  },
  {
   "cell_type": "markdown",
   "metadata": {},
   "source": [
    "### We map this network to a rectangular matrix in which the rows are repos, columns are users, and the values are the number of commits. Note we use a sparse matrix representation. We also sort the matrix rows and columns by degree, then plot the matrix."
   ]
  },
  {
   "cell_type": "code",
   "execution_count": null,
   "metadata": {},
   "outputs": [],
   "source": [
    "nodes_by_degree=sorted(nx.degree(B),key=lambda x: x[1],reverse=True)"
   ]
  },
  {
   "cell_type": "code",
   "execution_count": null,
   "metadata": {},
   "outputs": [],
   "source": [
    "mat=nx.bipartite.biadjacency_matrix(B,weight=None,\n",
    "                                    row_order=[x[0] for x in nodes_by_degree if 'repo' in x[0]],\n",
    "                                   column_order=[x[0] for x in nodes_by_degree if 'user' in x[0]])\n",
    "mat"
   ]
  },
  {
   "cell_type": "code",
   "execution_count": null,
   "metadata": {},
   "outputs": [],
   "source": [
    "f,ax=plt.subplots(figsize=(15,15))\n",
    "ax.spy(mat,color='black', markersize=1)\n",
    "plt.xlabel('Users',size=16)\n",
    "ax.xaxis.set_label_position('top') \n",
    "plt.ylabel('Repos',size=16)\n",
    "plt.show()"
   ]
  },
  {
   "cell_type": "markdown",
   "metadata": {},
   "source": [
    "### We can also consider only those developers contributing to at least 2 repos, and those repos with at least two contributing developers."
   ]
  },
  {
   "cell_type": "code",
   "execution_count": null,
   "metadata": {},
   "outputs": [],
   "source": [
    "B2 = nx.subgraph(B,[x for x in B.nodes() if nx.degree(B,x)>=2])\n",
    "B2 = nx.subgraph(B2,max(nx.connected_components(B2), key=len))\n"
   ]
  },
  {
   "cell_type": "code",
   "execution_count": null,
   "metadata": {},
   "outputs": [],
   "source": [
    "nodes_by_degree2=sorted(nx.degree(B2),key=lambda x: x[1],reverse=True)\n",
    "\n",
    "mat2=nx.bipartite.biadjacency_matrix(B2,weight=None,\n",
    "                                    row_order=[x[0] for x in nodes_by_degree2 if 'repo' in x[0]],\n",
    "                                    column_order=[x[0] for x in nodes_by_degree2 if 'user' in x[0]])\n",
    "mat2"
   ]
  },
  {
   "cell_type": "code",
   "execution_count": null,
   "metadata": {},
   "outputs": [],
   "source": [
    "f,ax=plt.subplots(figsize=(6,5))\n",
    "ax.spy(mat2,color='black', markersize=.4)\n",
    "plt.xlabel('Devs',size=14)\n",
    "ax.xaxis.set_label_position('top') \n",
    "plt.ylabel('Repos',size=14)\n",
    "plt.tight_layout()\n",
    "plt.savefig('plots/bimatrix.pdf')\n",
    "plt.show()"
   ]
  },
  {
   "cell_type": "markdown",
   "metadata": {},
   "source": [
    "### Finally we project this network onto the users/developers, creating a network of developers who are connected if the contribute to the same repo. We weigh edges by the count of repos two developers work on together. \n",
    "\n",
    "Scientific collaboration networks: II. Shortest paths, weighted networks, and centrality, M. E. J. Newman, Phys. Rev. E 64, 016132 (2001)."
   ]
  },
  {
   "cell_type": "code",
   "execution_count": null,
   "metadata": {},
   "outputs": [],
   "source": [
    "G=nx.bipartite.weighted_projected_graph(B,nodes=[x for x in B.nodes() if 'user' in x])"
   ]
  },
  {
   "cell_type": "code",
   "execution_count": null,
   "metadata": {},
   "outputs": [],
   "source": [
    "print(nx.info(G))"
   ]
  },
  {
   "cell_type": "code",
   "execution_count": null,
   "metadata": {},
   "outputs": [],
   "source": [
    "#focusing on the giant connected component:\n",
    "Gcc= nx.subgraph(G,max(nx.connected_components(G), key=len))\n",
    "print(nx.info(Gcc))"
   ]
  },
  {
   "cell_type": "markdown",
   "metadata": {},
   "source": [
    "### This is a large network. We can filter it for stronger collaborations: those pairs of nodes that work together on at least three repos."
   ]
  },
  {
   "cell_type": "code",
   "execution_count": null,
   "metadata": {},
   "outputs": [],
   "source": [
    "strong_collaborations = nx.Graph()\n",
    "strong_collaborations.add_edges_from([(n1,n2) for n1,n2,weight in Gcc.edges(data=True) if weight['weight']>=3])\n",
    "print(nx.info(strong_collaborations))"
   ]
  },
  {
   "cell_type": "markdown",
   "metadata": {},
   "source": [
    "### Let us visualize the giant connected component of this network."
   ]
  },
  {
   "cell_type": "code",
   "execution_count": null,
   "metadata": {},
   "outputs": [],
   "source": [
    "strong_collaborations_gcc= nx.subgraph(strong_collaborations,\n",
    "                                       max(nx.connected_components(strong_collaborations), key=len))\n",
    "\n",
    "\n",
    "plt.figure(figsize=(15,15))\n",
    "pos = nx.drawing.nx_agraph.graphviz_layout(strong_collaborations_gcc,prog='neato')\n",
    "\n",
    "nx.draw_networkx_edges(strong_collaborations_gcc,pos=pos,edge_color='black',width=1,alpha=.5)\n",
    "nx.draw_networkx_nodes(strong_collaborations_gcc, pos, node_size=100,node_color='white',\n",
    "                           linewidths=1, alpha=1,edgecolors='black')\n",
    "\n",
    "plt.tight_layout()\n",
    "plt.savefig('plots/collab_net_filtered.pdf')\n",
    "plt.show()"
   ]
  }
 ],
 "metadata": {
  "kernelspec": {
   "display_name": "Python 3",
   "language": "python",
   "name": "python3"
  },
  "language_info": {
   "codemirror_mode": {
    "name": "ipython",
    "version": 3
   },
   "file_extension": ".py",
   "mimetype": "text/x-python",
   "name": "python",
   "nbconvert_exporter": "python",
   "pygments_lexer": "ipython3",
   "version": "3.8.5"
  }
 },
 "nbformat": 4,
 "nbformat_minor": 4
}
