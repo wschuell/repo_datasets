{
 "cells": [
  {
   "cell_type": "markdown",
   "metadata": {},
   "source": [
    "## In this notebook we read in timestamped data of stars to repos. We select some top repos by total stars, then plot the timeseries of stars they received every month since December 2014.\n",
    "\n",
    "Here we read in the data directly from a curated CSV. It is also possible to query this data from the database directly. \n"
   ]
  },
  {
   "cell_type": "code",
   "execution_count": null,
   "metadata": {},
   "outputs": [],
   "source": [
    "import pandas as pd\n",
    "import matplotlib.pyplot as plt\n",
    "import datetime as dt\n"
   ]
  },
  {
   "cell_type": "code",
   "execution_count": null,
   "metadata": {},
   "outputs": [],
   "source": [
    "df=pd.read_csv('data/usage.csv')\n",
    "df['timestamp']=pd.to_datetime(df['timestamp'])"
   ]
  },
  {
   "cell_type": "code",
   "execution_count": null,
   "metadata": {},
   "outputs": [],
   "source": [
    "df.head()"
   ]
  },
  {
   "cell_type": "code",
   "execution_count": null,
   "metadata": {},
   "outputs": [],
   "source": [
    "#selecting the J'th through K'th top repos by their all-time highest star count\n",
    "j= 3\n",
    "k = 5\n",
    "topk=df.groupby('repo_id')['stars'].max().sort_values().tail(k).head(j)\n",
    "print(topk)"
   ]
  },
  {
   "cell_type": "code",
   "execution_count": null,
   "metadata": {},
   "outputs": [],
   "source": [
    "topk_repoids=list(topk.index)"
   ]
  },
  {
   "cell_type": "code",
   "execution_count": null,
   "metadata": {
    "scrolled": false
   },
   "outputs": [],
   "source": [
    "for repo in topk_repoids:\n",
    "    repo_df = df[df['repo_id']==repo].set_index('timestamp')\n",
    "    repo_df=repo_df.loc[(repo_df.index > '2014-01-01 00:00:00')&(repo_df.index < '2022-09-01 00:00:00')]\n",
    "    f,ax=plt.subplots(1,2,figsize=(10,4))\n",
    "    repo_df.stars.plot(color='red',ax=ax[0])\n",
    "    ax[0].set_ylabel('Stars',size=13)\n",
    "    ax[0].semilogy()\n",
    "    ax[0].set_xlabel('')\n",
    "    ax[0].set_ylim(bottom=10)\n",
    "    repo_df.downloads.plot(color='blue',ax=ax[1])\n",
    "    ax[1].set_ylabel('Downloads',size=13)\n",
    "    ax[1].semilogy()\n",
    "    ax[1].set_xlabel('')\n",
    "    ax[1].set_ylim(bottom=10)\n",
    "    plt.suptitle('Repo ID: '+str(repo),size=13)\n",
    "    ax[0].grid()\n",
    "    ax[1].grid()\n",
    "    plt.show()\n",
    "    print('---------')"
   ]
  },
  {
   "cell_type": "markdown",
   "metadata": {},
   "source": [
    "## The monthly dynamics of stars are rather volatile. In some months a repo can get many times more stars than in another month."
   ]
  },
  {
   "cell_type": "code",
   "execution_count": null,
   "metadata": {},
   "outputs": [],
   "source": [
    "plt.figure(figsize=(10,8))\n",
    "for repo in topk_repoids:\n",
    "    repo_df = df[df['repo_id']==repo].set_index('timestamp')\n",
    "    repo_df=repo_df.loc[(repo_df.index > '2014-01-01 00:00:00')&(repo_df.index < '2022-09-01 00:00:00')]\n",
    "    repo_df.stars.diff().plot(label=repo)\n",
    "    \n",
    "plt.ylabel('Stars',size=14)\n",
    "plt.xlabel('')\n",
    "plt.grid()\n",
    "plt.semilogy()\n",
    "plt.ylim(bottom=1)\n",
    "\n",
    "plt.legend(prop={'size':14})"
   ]
  },
  {
   "cell_type": "markdown",
   "metadata": {},
   "source": [
    "## We can recreate this plot for Downloads - a measure of use rather than popular success or visibility."
   ]
  },
  {
   "cell_type": "code",
   "execution_count": null,
   "metadata": {},
   "outputs": [],
   "source": [
    "plt.figure(figsize=(6,5))\n",
    "linestyles=['--',':','-']\n",
    "for repo in topk_repoids:\n",
    "    repo_df = df[df['repo_id']==repo].set_index('timestamp')\n",
    "    repo_df=repo_df.loc[(repo_df.index > '2014-01-01 00:00:00')&(repo_df.index < '2022-09-01 00:00:00')]\n",
    "    repo_df.downloads.diff().plot(label=repo,linestyle=linestyles.pop(),color='black')\n",
    "    \n",
    "plt.ylabel('Downloads',size=14)\n",
    "plt.xlabel('')\n",
    "plt.semilogy()\n",
    "plt.yticks(size=14)\n",
    "plt.xticks(size=14)\n",
    "\n",
    "plt.grid()\n",
    "plt.legend(title=\"Repo ID\",prop={'size':14},loc='upper left')\n",
    "plt.tight_layout()\n",
    "plt.savefig('plots/DL_ts.pdf')"
   ]
  },
  {
   "cell_type": "code",
   "execution_count": null,
   "metadata": {},
   "outputs": [],
   "source": []
  },
  {
   "cell_type": "markdown",
   "metadata": {},
   "source": [
    "### Finally, we present a time series of new pull requests, quantifying collaborative code contributions, for two popular libraries."
   ]
  },
  {
   "cell_type": "code",
   "execution_count": null,
   "metadata": {},
   "outputs": [],
   "source": [
    "plt.figure(figsize=(6,5))\n",
    "linestyles=['--',':','-']\n",
    "\n",
    "\n",
    "repo_df = df[df['repo_id']==30514].set_index('timestamp')\n",
    "repo_df=repo_df.loc[(repo_df.index > '2014-01-01 00:00:00')&(repo_df.index < '2022-09-01 00:00:00')]\n",
    "repo_df.pullrequests.diff().plot(label='30514',\n",
    "                                  linestyle=linestyles.pop(),color='black')\n",
    "\n",
    "\n",
    "repo_df = df[df['repo_id']==27416].set_index('timestamp')\n",
    "repo_df=repo_df.loc[(repo_df.index > '2014-01-01 00:00:00')&(repo_df.index < '2022-09-01 00:00:00')]\n",
    "repo_df.pullrequests.diff().plot(label='27416',\n",
    "                                  linestyle=linestyles.pop(),color='black')\n",
    "\n",
    "\n",
    "\n",
    "plt.ylabel('New Pull Requests',size=14)\n",
    "plt.xlabel('')\n",
    "plt.yticks(size=14)\n",
    "plt.xticks(size=14)\n",
    "\n",
    "\n",
    "plt.grid()\n",
    "plt.legend(title=\"Repo\",prop={'size':14},loc='upper left')\n",
    "plt.tight_layout()\n",
    "plt.savefig('plots/pr_ts.pdf')"
   ]
  },
  {
   "cell_type": "code",
   "execution_count": null,
   "metadata": {},
   "outputs": [],
   "source": []
  }
 ],
 "metadata": {
  "kernelspec": {
   "display_name": "Python 3",
   "language": "python",
   "name": "python3"
  },
  "language_info": {
   "codemirror_mode": {
    "name": "ipython",
    "version": 3
   },
   "file_extension": ".py",
   "mimetype": "text/x-python",
   "name": "python",
   "nbconvert_exporter": "python",
   "pygments_lexer": "ipython3",
   "version": "3.8.5"
  }
 },
 "nbformat": 4,
 "nbformat_minor": 4
}
