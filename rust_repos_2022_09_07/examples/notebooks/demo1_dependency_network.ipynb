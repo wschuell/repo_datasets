{
 "cells": [
  {
   "cell_type": "markdown",
   "metadata": {},
   "source": [
    "## In this notebook we read in data on dependencies between repos of the Rust ecosystem observed monthly from late 2014 to the present. We create a directed network of dependencies each month, and plot the average number of direct and transitive dependencies over time.\n",
    "\n",
    "For a similar analysis carried out on several ecosystems, see:\n",
    "\n",
    "* Decan, A., Mens, T., & Grosjean, P. (2019). An empirical comparison of dependency network evolution in seven software packaging ecosystems. Empirical Software Engineering, 24(1), 381-416.\n",
    "\n",
    "Here we read in the data directly from a curated CSV. It is also possible to query this data from the database directly. "
   ]
  },
  {
   "cell_type": "code",
   "execution_count": null,
   "metadata": {},
   "outputs": [],
   "source": [
    "import pandas as pd\n",
    "import networkx as nx\n",
    "import numpy as np\n",
    "import seaborn as sns\n",
    "import matplotlib.pyplot as plt"
   ]
  },
  {
   "cell_type": "code",
   "execution_count": null,
   "metadata": {},
   "outputs": [],
   "source": [
    "df = pd.read_csv('../preprocessed/dependencies.csv')\n",
    "df.head()"
   ]
  },
  {
   "cell_type": "code",
   "execution_count": null,
   "metadata": {},
   "outputs": [],
   "source": [
    "networks={}\n",
    "\n",
    "for month in df.timestamp.unique():\n",
    "    mdf =df[df['timestamp']==month]\n",
    "    dependency_network = nx.DiGraph()\n",
    "    dependency_network.add_edges_from(mdf[['dep_id','repo_id']].values)\n",
    "    networks[month]=dependency_network"
   ]
  },
  {
   "cell_type": "code",
   "execution_count": null,
   "metadata": {},
   "outputs": [],
   "source": [
    "average_n_dependencies = []\n",
    "average_n_transitive_dependencies = []\n",
    "for month,network in networks.items():\n",
    "    average_n_dependencies+=([[month,x[1]] for x in network.out_degree()])\n",
    "    average_n_transitive_dependencies+=(\n",
    "        [[month,len(nx.descendants(network,x))] for x in network])"
   ]
  },
  {
   "cell_type": "code",
   "execution_count": null,
   "metadata": {},
   "outputs": [],
   "source": [
    "dependencies=pd.DataFrame(average_n_dependencies,columns=['date','dependencies'])\n",
    "transitive_dependencies=pd.DataFrame(average_n_transitive_dependencies,columns=['date','transitive_dependencies'])"
   ]
  },
  {
   "cell_type": "code",
   "execution_count": null,
   "metadata": {},
   "outputs": [],
   "source": [
    "dependencies['month']=dependencies['date'].map(lambda x: str(x).split('-')[1])\n",
    "annual_dependencies = dependencies[dependencies['month']=='01']\n",
    "\n",
    "transitive_dependencies['month']=transitive_dependencies['date'].map(lambda x: str(x).split('-')[1])\n",
    "annual_transitive_dependencies = transitive_dependencies[transitive_dependencies['month']=='01']"
   ]
  },
  {
   "cell_type": "code",
   "execution_count": null,
   "metadata": {},
   "outputs": [],
   "source": [
    "plt.figure(figsize=(6,5))\n",
    "sns.pointplot(x='date',y='dependencies',data=annual_dependencies,color='grey')\n",
    "locs, labels = plt.xticks()\n",
    "plt.xticks(locs,labels=[2015,2016,2017,2018,2019,2020,2021,2022],size=13)\n",
    "plt.ylabel('Avg. Dependencies',size=14)\n",
    "plt.xlabel('')\n",
    "plt.tight_layout()\n",
    "plt.grid()\n",
    "plt.show()"
   ]
  },
  {
   "cell_type": "code",
   "execution_count": null,
   "metadata": {},
   "outputs": [],
   "source": [
    "plt.figure(figsize=(6,5))\n",
    "sns.pointplot(x='date',y='transitive_dependencies',data=annual_transitive_dependencies,color='grey')\n",
    "locs, labels = plt.xticks()\n",
    "plt.xticks(locs,labels=[2015,2016,2017,2018,2019,2020,2021,2022],size=13)\n",
    "plt.ylabel('Avg. Transitive Dependencies',size=14)\n",
    "plt.xlabel('')\n",
    "plt.tight_layout()\n",
    "plt.grid()\n",
    "\n",
    "plt.show()"
   ]
  },
  {
   "cell_type": "markdown",
   "metadata": {},
   "source": [
    "### We observe a steady increase in the average number of dependencies, but a more explosive increase in the number of transitive dependencies in the ecosystem."
   ]
  },
  {
   "cell_type": "markdown",
   "metadata": {},
   "source": [
    "## Finally we plot the most recent data on the dependencies between the one hundred most downloaded Rust repos.\n",
    "\n",
    "Note: this requires an installation of graphviz/pydot"
   ]
  },
  {
   "cell_type": "code",
   "execution_count": null,
   "metadata": {},
   "outputs": [],
   "source": [
    "usage_df=pd.read_csv('../preprocessed/usage.csv') #read in data on usage for downloads\n",
    "top_repo_ids=usage_df[ \n",
    "    usage_df['timestamp']=='2022-09-01'][['repo_id','downloads']].sort_values('downloads').tail(100).repo_id"
   ]
  },
  {
   "cell_type": "code",
   "execution_count": null,
   "metadata": {},
   "outputs": [],
   "source": [
    "dependency_network = networks['2022-09-01'] #select the most recent dependency network\n",
    "print(nx.info(dependency_network))\n",
    "top_dl_dependency_network=nx.subgraph(dependency_network,top_repo_ids) #filter for the top downloaded repos\n",
    "print(nx.info(top_dl_dependency_network)) "
   ]
  },
  {
   "cell_type": "code",
   "execution_count": null,
   "metadata": {},
   "outputs": [],
   "source": [
    "from networkx.drawing.nx_pydot import graphviz_layout\n",
    "\n",
    "pos = nx.drawing.nx_agraph.graphviz_layout(top_dl_dependency_network,prog='dot')\n",
    "#draw the network in a hierarchical layout\n",
    "fig, ax = plt.subplots(ncols=1, figsize=(13,6))\n",
    "nx.draw_networkx_edges(top_dl_dependency_network,pos=pos,alpha=.3)\n",
    "nx.draw_networkx_nodes(top_dl_dependency_network,\n",
    "        pos=pos,\n",
    "        node_color='white',\n",
    "        node_size=100,\n",
    "        edgecolors='black',\n",
    "        linewidths=1)\n",
    "\n",
    "ax.invert_yaxis()\n",
    "plt.tight_layout()\n",
    "plt.show()"
   ]
  }
 ],
 "metadata": {
  "kernelspec": {
   "display_name": "Python 3 (ipykernel)",
   "language": "python",
   "name": "python3"
  },
  "language_info": {
   "codemirror_mode": {
    "name": "ipython",
    "version": 3
   },
   "file_extension": ".py",
   "mimetype": "text/x-python",
   "name": "python",
   "nbconvert_exporter": "python",
   "pygments_lexer": "ipython3",
   "version": "3.9.7"
  }
 },
 "nbformat": 4,
 "nbformat_minor": 4
}
